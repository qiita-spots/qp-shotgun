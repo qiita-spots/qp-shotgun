{
 "cells": [
  {
   "cell_type": "markdown",
   "metadata": {},
   "source": [
    "# Host filtering"
   ]
  },
  {
   "cell_type": "markdown",
   "metadata": {},
   "source": [
    "## Goal"
   ]
  },
  {
   "cell_type": "markdown",
   "metadata": {},
   "source": [
    "Remove potential host genome contamination from sequencing data."
   ]
  },
  {
   "cell_type": "markdown",
   "metadata": {},
   "source": [
    "## Protocol"
   ]
  },
  {
   "cell_type": "markdown",
   "metadata": {},
   "source": [
    "We use [Bowtie2](http://bowtie-bio.sourceforge.net/bowtie2/index.shtml) ([Langmead and Salzberg, 2012](https://www.nature.com/articles/nmeth.1923)) to align paired-end sequences to the host genome, then use [SAMtools](http://samtools.sourceforge.net/) ([Li et al., 2009](https://academic.oup.com/bioinformatics/article/25/16/2078/204688)) with [BEDtools](https://bedtools.readthedocs.io/en/latest/) ([Quinlan and Hall, 2010](https://academic.oup.com/bioinformatics/article/26/6/841/244688)) to remove aligned sequences and their mates.\n",
    "\n",
    "The following command is adopted from Oecophylla, under [qc.rule](https://github.com/biocore/oecophylla/blob/7e2c8e030fb2e3943762156dd7d84fdf945dbc92/oecophylla/qc/qc.rule#L214).\n",
    "\n",
    "```\n",
    "bowtie2 -p {threads} -x {params.filter_db} --very-sensitive -1 {input.forward} -2 {input.reverse} 2> {log.bowtie}| samtools view -f 12 -F 256 -b -o {temp_dir}/{wildcards.sample}.unsorted.bam 2> {log.other}\n",
    "\n",
    "samtools sort -T {temp_dir}/{wildcards.sample} -@ {threads} -n -o {temp_dir}/{wildcards.sample}.bam {temp_dir}/{wildcards.sample}.unsorted.bam 2> {log.other}\n",
    "\n",
    "bedtools bamtofastq -i {temp_dir}/{wildcards.sample}.bam -fq {temp_dir}/{wildcards.sample}.R1.trimmed.filtered.fastq -fq2 {temp_dir}/{wildcards.sample}.R2.trimmed.filtered.fastq 2> {log.other}\n",
    "```\n",
    "\n",
    "If necessary, these three commands can be combined into one command:\n",
    "\n",
    "```\n",
    "bowtie2 -p {threads} -x {params.filter_db} --very-sensitive -1 {input.forward} -2 {input.reverse} | samtools view -f 12 -F 256 | samtools sort -@ {threads} -n | samtools view -bS | bedtools bamtofastq -i - -fq {output.forward} -fq2 {output.reverse} &> {log}\n",
    "```\n",
    "\n",
    "Multiple host databases (`params.filter_db`) are already available on Barnacle, under: `/databases/bowtie`. Of which, `Human` is for human sequence removal, `PhiX` is to remove Illumina’s spike-in control. `Human_PhiX` is for both (we recommend using this database)."
   ]
  },
  {
   "cell_type": "markdown",
   "metadata": {},
   "source": [
    "## Benchmark"
   ]
  },
  {
   "cell_type": "markdown",
   "metadata": {},
   "source": [
    "The following benchmarks were obtained on 692 AGP shotgun samples, using 4 CPUs and 8 GB memory.\n",
    "\n",
    "Basically, the run time is linear to the sample size, while memory consumption is constant and trivial.\n",
    "\n",
    "For a typical dataset of 1 million sequences, this step will cost roughly 3 min 30 sec."
   ]
  },
  {
   "cell_type": "code",
   "execution_count": 1,
   "metadata": {},
   "outputs": [],
   "source": [
    "import pandas as pd\n",
    "import matplotlib.pyplot as plt\n",
    "from scipy.stats import linregress"
   ]
  },
  {
   "cell_type": "code",
   "execution_count": 2,
   "metadata": {},
   "outputs": [],
   "source": [
    "%matplotlib inline"
   ]
  },
  {
   "cell_type": "code",
   "execution_count": 3,
   "metadata": {},
   "outputs": [
    {
     "data": {
      "text/html": [
       "<div>\n",
       "<style scoped>\n",
       "    .dataframe tbody tr th:only-of-type {\n",
       "        vertical-align: middle;\n",
       "    }\n",
       "\n",
       "    .dataframe tbody tr th {\n",
       "        vertical-align: top;\n",
       "    }\n",
       "\n",
       "    .dataframe thead th {\n",
       "        text-align: right;\n",
       "    }\n",
       "</style>\n",
       "<table border=\"1\" class=\"dataframe\">\n",
       "  <thead>\n",
       "    <tr style=\"text-align: right;\">\n",
       "      <th></th>\n",
       "      <th>seqs</th>\n",
       "      <th>s</th>\n",
       "      <th>h:m:s</th>\n",
       "      <th>max_rss</th>\n",
       "      <th>max_vms</th>\n",
       "      <th>max_uss</th>\n",
       "      <th>max_pss</th>\n",
       "      <th>io_in</th>\n",
       "      <th>io_out</th>\n",
       "      <th>mean_load</th>\n",
       "    </tr>\n",
       "    <tr>\n",
       "      <th>sample</th>\n",
       "      <th></th>\n",
       "      <th></th>\n",
       "      <th></th>\n",
       "      <th></th>\n",
       "      <th></th>\n",
       "      <th></th>\n",
       "      <th></th>\n",
       "      <th></th>\n",
       "      <th></th>\n",
       "      <th></th>\n",
       "    </tr>\n",
       "  </thead>\n",
       "  <tbody>\n",
       "    <tr>\n",
       "      <th>10317.000001062</th>\n",
       "      <td>981617</td>\n",
       "      <td>200.3494</td>\n",
       "      <td>0:03:20</td>\n",
       "      <td>3450.60</td>\n",
       "      <td>4971.94</td>\n",
       "      <td>3431.92</td>\n",
       "      <td>3436.66</td>\n",
       "      <td>0.0</td>\n",
       "      <td>1248.96</td>\n",
       "      <td>145.12</td>\n",
       "    </tr>\n",
       "    <tr>\n",
       "      <th>10317.000001079</th>\n",
       "      <td>1080117</td>\n",
       "      <td>219.5485</td>\n",
       "      <td>0:03:39</td>\n",
       "      <td>3450.71</td>\n",
       "      <td>4975.90</td>\n",
       "      <td>3432.11</td>\n",
       "      <td>3436.83</td>\n",
       "      <td>0.0</td>\n",
       "      <td>1308.75</td>\n",
       "      <td>187.75</td>\n",
       "    </tr>\n",
       "    <tr>\n",
       "      <th>10317.000001086</th>\n",
       "      <td>301797</td>\n",
       "      <td>66.3551</td>\n",
       "      <td>0:01:06</td>\n",
       "      <td>3449.45</td>\n",
       "      <td>4966.91</td>\n",
       "      <td>3412.78</td>\n",
       "      <td>3426.54</td>\n",
       "      <td>0.0</td>\n",
       "      <td>209.85</td>\n",
       "      <td>79.11</td>\n",
       "    </tr>\n",
       "    <tr>\n",
       "      <th>10317.000001089</th>\n",
       "      <td>746019</td>\n",
       "      <td>159.4735</td>\n",
       "      <td>0:02:39</td>\n",
       "      <td>3457.93</td>\n",
       "      <td>4976.94</td>\n",
       "      <td>3418.17</td>\n",
       "      <td>3433.29</td>\n",
       "      <td>0.0</td>\n",
       "      <td>887.52</td>\n",
       "      <td>177.41</td>\n",
       "    </tr>\n",
       "    <tr>\n",
       "      <th>10317.000001127</th>\n",
       "      <td>1028104</td>\n",
       "      <td>210.8806</td>\n",
       "      <td>0:03:30</td>\n",
       "      <td>3467.57</td>\n",
       "      <td>4987.91</td>\n",
       "      <td>3448.89</td>\n",
       "      <td>3453.80</td>\n",
       "      <td>0.0</td>\n",
       "      <td>1282.62</td>\n",
       "      <td>185.06</td>\n",
       "    </tr>\n",
       "  </tbody>\n",
       "</table>\n",
       "</div>"
      ],
      "text/plain": [
       "                    seqs         s    h:m:s  max_rss  max_vms  max_uss  \\\n",
       "sample                                                                   \n",
       "10317.000001062   981617  200.3494  0:03:20  3450.60  4971.94  3431.92   \n",
       "10317.000001079  1080117  219.5485  0:03:39  3450.71  4975.90  3432.11   \n",
       "10317.000001086   301797   66.3551  0:01:06  3449.45  4966.91  3412.78   \n",
       "10317.000001089   746019  159.4735  0:02:39  3457.93  4976.94  3418.17   \n",
       "10317.000001127  1028104  210.8806  0:03:30  3467.57  4987.91  3448.89   \n",
       "\n",
       "                 max_pss  io_in   io_out  mean_load  \n",
       "sample                                               \n",
       "10317.000001062  3436.66    0.0  1248.96     145.12  \n",
       "10317.000001079  3436.83    0.0  1308.75     187.75  \n",
       "10317.000001086  3426.54    0.0   209.85      79.11  \n",
       "10317.000001089  3433.29    0.0   887.52     177.41  \n",
       "10317.000001127  3453.80    0.0  1282.62     185.06  "
      ]
     },
     "execution_count": 3,
     "metadata": {},
     "output_type": "execute_result"
    }
   ],
   "source": [
    "df = pd.read_table('support_files/benchmarks/bowtie2.tsv', index_col=0)\n",
    "df.head()"
   ]
  },
  {
   "cell_type": "code",
   "execution_count": 4,
   "metadata": {},
   "outputs": [],
   "source": [
    "df['mseqs'] = df['seqs'] / 1000000\n",
    "df['mbram'] = df['max_rss'] / 1000"
   ]
  },
  {
   "cell_type": "code",
   "execution_count": 5,
   "metadata": {},
   "outputs": [
    {
     "data": {
      "text/plain": [
       "LinregressResult(slope=201.57923113272986, intercept=9.8897553040653179, rvalue=0.98732196866490929, pvalue=0.0, stderr=1.2111292693713898)"
      ]
     },
     "execution_count": 5,
     "metadata": {},
     "output_type": "execute_result"
    }
   ],
   "source": [
    "reg = linregress(df['mseqs'].values, df['s'].values)\n",
    "reg"
   ]
  },
  {
   "cell_type": "code",
   "execution_count": 6,
   "metadata": {},
   "outputs": [
    {
     "data": {
      "image/png": "[encoded data removed]",
      "text/plain": [
       "<Figure size 360x360 with 1 Axes>"
      ]
     },
     "metadata": {},
     "output_type": "display_data"
    }
   ],
   "source": [
    "fig = plt.figure(figsize=(5, 5))\n",
    "ax = plt.gca()\n",
    "plt.plot(df['mseqs'], df['s'], 'o', markersize=4)\n",
    "x0, x1 = plt.xlim()\n",
    "y0 = x0 * reg.slope + reg.intercept\n",
    "y1 = x1 * reg.slope + reg.intercept\n",
    "plt.plot([x0, x1], [y0, y1], '--')\n",
    "plt.text(0.1, 0.8, '$\\it{y} = %.3g %+.3g \\it{x}$\\n$\\it{R}^2 = %.3g$'\n",
    "         % (reg.intercept, reg.slope, reg.rvalue ** 2),\n",
    "         transform=ax.transAxes)\n",
    "plt.xlabel('Million sequences')\n",
    "plt.ylabel('Wall clock time (sec)');"
   ]
  },
  {
   "cell_type": "code",
   "execution_count": 7,
   "metadata": {},
   "outputs": [
    {
     "data": {
      "text/plain": [
       "LinregressResult(slope=0.44711386145708548, intercept=2.9066318382168732, rvalue=0.37098667678108366, pvalue=7.5750394375810717e-25, stderr=0.041826338629199808)"
      ]
     },
     "execution_count": 7,
     "metadata": {},
     "output_type": "execute_result"
    }
   ],
   "source": [
    "reg = linregress(df['mseqs'].values, df['mbram'].values)\n",
    "reg"
   ]
  },
  {
   "cell_type": "code",
   "execution_count": 8,
   "metadata": {},
   "outputs": [
    {
     "data": {
      "text/plain": [
       "Text(0,0.5,'Maximum memory usage (MB)')"
      ]
     },
     "execution_count": 8,
     "metadata": {},
     "output_type": "execute_result"
    },
    {
     "data": {
      "image/png": "[encoded data removed]",
      "text/plain": [
       "<Figure size 360x360 with 1 Axes>"
      ]
     },
     "metadata": {},
     "output_type": "display_data"
    }
   ],
   "source": [
    "fig = plt.figure(figsize=(5, 5))\n",
    "ax = plt.gca()\n",
    "plt.plot(df['mseqs'], df['mbram'], 'o', markersize=4)\n",
    "plt.xlabel('Million sequences')\n",
    "plt.ylabel('Maximum memory usage (MB)')"
   ]
  },
  {
   "cell_type": "code",
   "execution_count": null,
   "metadata": {},
   "outputs": [],
   "source": []
  }
 ],
 "metadata": {
  "kernelspec": {
   "display_name": "Python 3",
   "language": "python",
   "name": "python3"
  },
  "language_info": {
   "codemirror_mode": {
    "name": "ipython",
    "version": 3
   },
   "file_extension": ".py",
   "mimetype": "text/x-python",
   "name": "python",
   "nbconvert_exporter": "python",
   "pygments_lexer": "ipython3",
   "version": "3.6.6"
  }
 },
 "nbformat": 4,
 "nbformat_minor": 2
}
