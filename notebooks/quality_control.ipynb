{
 "cells": [
  {
   "cell_type": "markdown",
   "metadata": {},
   "source": [
    "# Quality control"
   ]
  },
  {
   "cell_type": "markdown",
   "metadata": {},
   "source": [
    "## Goal"
   ]
  },
  {
   "cell_type": "markdown",
   "metadata": {},
   "source": [
    "Remove sequences and regions with low quality or potential adapter contamination from the raw sequence pool."
   ]
  },
  {
   "cell_type": "markdown",
   "metadata": {},
   "source": [
    "## Protocol"
   ]
  },
  {
   "cell_type": "markdown",
   "metadata": {},
   "source": [
    "We use [Atropos](https://github.com/jdidion/atropos) ([Didion et al., 2017](https://peerj.com/articles/3720/)) for quality control.\n",
    "\n",
    "The following command is adopted from Oecophylla, under [qc.rule](https://github.com/biocore/oecophylla/blob/7e2c8e030fb2e3943762156dd7d84fdf945dbc92/oecophylla/qc/qc.rule#L158).\n",
    "\n",
    "```\n",
    "atropos --threads {threads} {params.atropos} --report-file {log} --report-formats txt -o {temp_dir}/{f_fp} -p {temp_dir}/{r_fp} -pe1 {input.forward} -pe2 {input.reverse}\n",
    "```\n",
    "\n",
    "For parameters (`params.atropos`), we use the following:\n",
    "```\n",
    "-a GATCGGAAGAGCACACGTCTGAACTCCAGTCAC\n",
    "-A GATCGGAAGAGCGTCGTGTAGGGAAAGGAGTGT\n",
    "-q 15 --minimum-length 100 --pair-filter any\n",
    "```\n",
    "Note: the two sequences are adapters to be removed (assuming the library prep kit is Illumina TruSeq or compatible models such as Kapa HyperPlus, which we use).\n"
   ]
  },
  {
   "cell_type": "markdown",
   "metadata": {},
   "source": [
    "## Benchmark"
   ]
  },
  {
   "cell_type": "markdown",
   "metadata": {},
   "source": [
    "The following benchmarks were obtained on 692 AGP shotgun samples, using 8 CPUs and 8 GB memory.\n",
    "\n",
    "Basically, the run time is linear to the sample size, while memory consumption is linear and trivial.\n",
    "\n",
    "For a typical dataset of 1 million sequences, this step will cost roughly 1 min 15 sec."
   ]
  },
  {
   "cell_type": "code",
   "execution_count": 1,
   "metadata": {},
   "outputs": [],
   "source": [
    "import pandas as pd\n",
    "import matplotlib.pyplot as plt\n",
    "from scipy.stats import linregress"
   ]
  },
  {
   "cell_type": "code",
   "execution_count": 2,
   "metadata": {},
   "outputs": [],
   "source": [
    "%matplotlib inline"
   ]
  },
  {
   "cell_type": "code",
   "execution_count": 3,
   "metadata": {},
   "outputs": [
    {
     "data": {
      "text/html": [
       "<div>\n",
       "<style scoped>\n",
       "    .dataframe tbody tr th:only-of-type {\n",
       "        vertical-align: middle;\n",
       "    }\n",
       "\n",
       "    .dataframe tbody tr th {\n",
       "        vertical-align: top;\n",
       "    }\n",
       "\n",
       "    .dataframe thead th {\n",
       "        text-align: right;\n",
       "    }\n",
       "</style>\n",
       "<table border=\"1\" class=\"dataframe\">\n",
       "  <thead>\n",
       "    <tr style=\"text-align: right;\">\n",
       "      <th></th>\n",
       "      <th>seqs</th>\n",
       "      <th>s</th>\n",
       "      <th>h:m:s</th>\n",
       "      <th>max_rss</th>\n",
       "      <th>max_vms</th>\n",
       "      <th>max_uss</th>\n",
       "      <th>max_pss</th>\n",
       "      <th>io_in</th>\n",
       "      <th>io_out</th>\n",
       "      <th>mean_load</th>\n",
       "    </tr>\n",
       "    <tr>\n",
       "      <th>sample</th>\n",
       "      <th></th>\n",
       "      <th></th>\n",
       "      <th></th>\n",
       "      <th></th>\n",
       "      <th></th>\n",
       "      <th></th>\n",
       "      <th></th>\n",
       "      <th></th>\n",
       "      <th></th>\n",
       "      <th></th>\n",
       "    </tr>\n",
       "  </thead>\n",
       "  <tbody>\n",
       "    <tr>\n",
       "      <th>10317.000001062</th>\n",
       "      <td>981681</td>\n",
       "      <td>77.8203</td>\n",
       "      <td>0:01:17</td>\n",
       "      <td>2044.04</td>\n",
       "      <td>5353.94</td>\n",
       "      <td>893.25</td>\n",
       "      <td>1382.30</td>\n",
       "      <td>234.93</td>\n",
       "      <td>400.00</td>\n",
       "      <td>371.43</td>\n",
       "    </tr>\n",
       "    <tr>\n",
       "      <th>10317.000001079</th>\n",
       "      <td>1080144</td>\n",
       "      <td>80.1169</td>\n",
       "      <td>0:01:20</td>\n",
       "      <td>2103.91</td>\n",
       "      <td>5411.07</td>\n",
       "      <td>1097.82</td>\n",
       "      <td>1559.92</td>\n",
       "      <td>253.10</td>\n",
       "      <td>139.91</td>\n",
       "      <td>387.32</td>\n",
       "    </tr>\n",
       "    <tr>\n",
       "      <th>10317.000001086</th>\n",
       "      <td>302135</td>\n",
       "      <td>26.8115</td>\n",
       "      <td>0:00:26</td>\n",
       "      <td>921.31</td>\n",
       "      <td>4230.70</td>\n",
       "      <td>498.44</td>\n",
       "      <td>572.31</td>\n",
       "      <td>72.55</td>\n",
       "      <td>51.16</td>\n",
       "      <td>376.98</td>\n",
       "    </tr>\n",
       "    <tr>\n",
       "      <th>10317.000001089</th>\n",
       "      <td>746192</td>\n",
       "      <td>57.8219</td>\n",
       "      <td>0:00:57</td>\n",
       "      <td>1260.92</td>\n",
       "      <td>4570.15</td>\n",
       "      <td>1024.99</td>\n",
       "      <td>1102.19</td>\n",
       "      <td>175.45</td>\n",
       "      <td>144.57</td>\n",
       "      <td>498.26</td>\n",
       "    </tr>\n",
       "    <tr>\n",
       "      <th>10317.000001127</th>\n",
       "      <td>1028459</td>\n",
       "      <td>87.0529</td>\n",
       "      <td>0:01:27</td>\n",
       "      <td>2195.91</td>\n",
       "      <td>5504.84</td>\n",
       "      <td>1413.00</td>\n",
       "      <td>1460.25</td>\n",
       "      <td>242.76</td>\n",
       "      <td>207.27</td>\n",
       "      <td>595.14</td>\n",
       "    </tr>\n",
       "  </tbody>\n",
       "</table>\n",
       "</div>"
      ],
      "text/plain": [
       "                    seqs        s    h:m:s  max_rss  max_vms  max_uss  \\\n",
       "sample                                                                  \n",
       "10317.000001062   981681  77.8203  0:01:17  2044.04  5353.94   893.25   \n",
       "10317.000001079  1080144  80.1169  0:01:20  2103.91  5411.07  1097.82   \n",
       "10317.000001086   302135  26.8115  0:00:26   921.31  4230.70   498.44   \n",
       "10317.000001089   746192  57.8219  0:00:57  1260.92  4570.15  1024.99   \n",
       "10317.000001127  1028459  87.0529  0:01:27  2195.91  5504.84  1413.00   \n",
       "\n",
       "                 max_pss   io_in  io_out  mean_load  \n",
       "sample                                               \n",
       "10317.000001062  1382.30  234.93  400.00     371.43  \n",
       "10317.000001079  1559.92  253.10  139.91     387.32  \n",
       "10317.000001086   572.31   72.55   51.16     376.98  \n",
       "10317.000001089  1102.19  175.45  144.57     498.26  \n",
       "10317.000001127  1460.25  242.76  207.27     595.14  "
      ]
     },
     "execution_count": 3,
     "metadata": {},
     "output_type": "execute_result"
    }
   ],
   "source": [
    "df = pd.read_table('support_files/benchmarks/atropos.tsv', index_col=0)\n",
    "df.head()"
   ]
  },
  {
   "cell_type": "code",
   "execution_count": 4,
   "metadata": {},
   "outputs": [],
   "source": [
    "df['mseqs'] = df['seqs'] / 1000000\n",
    "df['mbram'] = df['max_rss'] / 1000"
   ]
  },
  {
   "cell_type": "code",
   "execution_count": 5,
   "metadata": {},
   "outputs": [
    {
     "data": {
      "text/plain": [
       "LinregressResult(slope=69.387990648100072, intercept=5.6821600677541539, rvalue=0.98989635320073421, pvalue=0.0, stderr=0.37144317405330479)"
      ]
     },
     "execution_count": 5,
     "metadata": {},
     "output_type": "execute_result"
    }
   ],
   "source": [
    "reg = linregress(df['mseqs'].values, df['s'].values)\n",
    "reg"
   ]
  },
  {
   "cell_type": "code",
   "execution_count": 6,
   "metadata": {},
   "outputs": [
    {
     "data": {
      "image/png": "[encoded data removed]",
      "text/plain": [
       "<Figure size 360x360 with 1 Axes>"
      ]
     },
     "metadata": {},
     "output_type": "display_data"
    }
   ],
   "source": [
    "fig = plt.figure(figsize=(5, 5))\n",
    "ax = plt.gca()\n",
    "plt.plot(df['mseqs'], df['s'], 'o', markersize=4)\n",
    "x0, x1 = plt.xlim()\n",
    "y0 = x0 * reg.slope + reg.intercept\n",
    "y1 = x1 * reg.slope + reg.intercept\n",
    "plt.plot([x0, x1], [y0, y1], '--')\n",
    "plt.text(0.1, 0.8, '$\\it{y} = %.3g %+.3g \\it{x}$\\n$\\it{R}^2 = %.3g$'\n",
    "         % (reg.intercept, reg.slope, reg.rvalue ** 2),\n",
    "         transform=ax.transAxes)\n",
    "plt.xlabel('Million sequences')\n",
    "plt.ylabel('Wall clock time (sec)');"
   ]
  },
  {
   "cell_type": "code",
   "execution_count": 7,
   "metadata": {},
   "outputs": [
    {
     "data": {
      "text/plain": [
       "LinregressResult(slope=2.1242883118433484, intercept=-0.030892124063678361, rvalue=0.9709008287509695, pvalue=0.0, stderr=0.019581897495066496)"
      ]
     },
     "execution_count": 7,
     "metadata": {},
     "output_type": "execute_result"
    }
   ],
   "source": [
    "reg = linregress(df['mseqs'].values, df['mbram'].values)\n",
    "reg"
   ]
  },
  {
   "cell_type": "code",
   "execution_count": 8,
   "metadata": {},
   "outputs": [
    {
     "data": {
      "image/png": "[encoded data removed]",
      "text/plain": [
       "<Figure size 360x360 with 1 Axes>"
      ]
     },
     "metadata": {},
     "output_type": "display_data"
    }
   ],
   "source": [
    "fig = plt.figure(figsize=(5, 5))\n",
    "ax = plt.gca()\n",
    "plt.plot(df['mseqs'], df['mbram'], 'o', markersize=4)\n",
    "x0, x1 = plt.xlim()\n",
    "y0 = x0 * reg.slope + reg.intercept\n",
    "y1 = x1 * reg.slope + reg.intercept\n",
    "plt.plot([x0, x1], [y0, y1], '--')\n",
    "plt.text(0.1, 0.8, '$\\it{y} = %.3g %+.3g \\it{x}$\\n$\\it{R}^2 = %.3g$'\n",
    "         % (reg.intercept, reg.slope, reg.rvalue ** 2),\n",
    "         transform=ax.transAxes)\n",
    "plt.xlabel('Million sequences')\n",
    "plt.ylabel('Maximum memory usage (MB)');"
   ]
  },
  {
   "cell_type": "code",
   "execution_count": null,
   "metadata": {},
   "outputs": [],
   "source": []
  }
 ],
 "metadata": {
  "kernelspec": {
   "display_name": "Python 3",
   "language": "python",
   "name": "python3"
  },
  "language_info": {
   "codemirror_mode": {
    "name": "ipython",
    "version": 3
   },
   "file_extension": ".py",
   "mimetype": "text/x-python",
   "name": "python",
   "nbconvert_exporter": "python",
   "pygments_lexer": "ipython3",
   "version": "3.6.6"
  }
 },
 "nbformat": 4,
 "nbformat_minor": 2
}
